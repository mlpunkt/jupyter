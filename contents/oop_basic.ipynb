{
  "metadata": {
    "language_info": {
      "codemirror_mode": {
        "name": "python",
        "version": 3
      },
      "file_extension": ".py",
      "mimetype": "text/x-python",
      "name": "python",
      "nbconvert_exporter": "python",
      "pygments_lexer": "ipython3",
      "version": "3.8"
    },
    "kernelspec": {
      "name": "python",
      "display_name": "Python (Pyodide)",
      "language": "python"
    }
  },
  "nbformat_minor": 4,
  "nbformat": 4,
  "cells": [
    {
      "cell_type": "markdown",
      "source": "# Objektorientierte Programmierung",
      "metadata": {}
    },
    {
      "cell_type": "markdown",
      "source": "## Beispielprogramm",
      "metadata": {}
    },
    {
      "cell_type": "code",
      "source": "from abc import ABC, abstractmethod\n\n# Abstrakte Klasse Shape, die als Schnittstelle für alle Formen dient\nclass Form(ABC):\n    @abstractmethod\n    def flaeche_berechnen(self):\n        pass\n\n# Kreis-Klasse, die von Form erbt und die Fläche eines Kreises berechnet\nclass Kreis(Form):\n    def __init__(self, radius, farbe):\n        self.radius = radius\n        self.farbe = farbe\n\n    def flaeche_berechnen(self):\n        return 3.14 * self.radius * self.radius\n    \n    def farbe_ausgeben(self):\n        print(self.farbe)\n        \n# Rechteck-Klasse, die von Form erbt und die Fläche eines Rechtecks berechnet\nclass Rechteck(Form):\n    def __init__(self, laenge, breite):\n        self.laenge = laenge\n        self.breite = breite\n\n    def flaeche_berechnen(self):\n        return self.laenge * self.breite\n\n# Quadrat-Klasse, die von Rechteck erbt und die Fläche eines Quadrats berechnet\nclass Quadrat(Rechteck):\n    def __init__(self, seite):\n        super().__init__(seite, seite)\n\n# Dreieck-Klasse, die von Form erbt und die Fläche eines Dreiecks berechnet\nclass Dreieck(Form):\n    def __init__(self, basis, hoehe):\n        self.basis = basis\n        self.hoehe = hoehe\n\n    def flaeche_berechnen(self):\n        return 0.5 * self.basis * self.hoehe\n\n# Funktion zum Ausgeben der Fläche einer Form\ndef flaeche_ausgeben(form):\n    print(\"Fläche:\", form.flaeche_berechnen())",
      "metadata": {
        "trusted": true
      },
      "execution_count": 9,
      "outputs": []
    },
    {
      "cell_type": "markdown",
      "source": "## Test",
      "metadata": {}
    },
    {
      "cell_type": "code",
      "source": "kreis = Kreis(4, \"gelb\")\nflaeche_ausgeben(kreis)",
      "metadata": {
        "trusted": true
      },
      "execution_count": 13,
      "outputs": [
        {
          "name": "stdout",
          "text": "Fläche: 50.24\n",
          "output_type": "stream"
        }
      ]
    },
    {
      "cell_type": "code",
      "source": "kreis.farbe_ausgeben()",
      "metadata": {
        "trusted": true
      },
      "execution_count": 14,
      "outputs": [
        {
          "name": "stdout",
          "text": "gelb\n",
          "output_type": "stream"
        }
      ]
    },
    {
      "cell_type": "code",
      "source": "",
      "metadata": {},
      "execution_count": null,
      "outputs": []
    }
  ]
}