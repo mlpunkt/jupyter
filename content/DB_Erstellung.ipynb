{
  "metadata": {
    "toc-showmarkdowntxt": false,
    "toc-autonumbering": true,
    "language_info": {
      "codemirror_mode": "sql",
      "file_extension": "",
      "mimetype": "",
      "name": "sql",
      "version": "3.32.3"
    },
    "kernelspec": {
      "name": "SQLite",
      "display_name": "SQLite",
      "language": "sql"
    }
  },
  "nbformat_minor": 4,
  "nbformat": 4,
  "cells": [
    {
      "cell_type": "markdown",
      "source": "#### Hinweise zum Jupyter Notebook:\n- SHIFT-ENTER: Ausführung der aktuellen Zelle und Wechsel zur nächsten Zelle\n- Reihenfolge der Zellen beachten [xxx] \n- Zur Dokumentation __Markdown__ wählen\n    - __ vor und nach Wort --> Fett\n    - _ vor und nach Wort --> kursiv\n    - \"# oder ##, ###\", usw. steht für eine Überschrift\n> Help --> Markdown References\n- Speichere das Notebook, indem du es herunterlädst und speicherst \n    > File --> Download\n",
      "metadata": {}
    },
    {
      "cell_type": "markdown",
      "source": "---",
      "metadata": {}
    },
    {
      "cell_type": "markdown",
      "source": "# Grundlagen der Datenbankerstellung (mit SQL(ite))",
      "metadata": {}
    },
    {
      "cell_type": "markdown",
      "source": "## Unterschied SQL und SQLite\n- SQL ist ein serverseitiges DBMS\n- SQLite läuft serverlos direkt in einer Anwendung (z.B. in einem Jupyter Notebook) und Änderungen werden im Browser-Cache gespeichert.\n- SQLite --> Einsatz in eingebetteten Datenbanksystemen, daher fehlen Funktionen wie die Möglichkeit, Objektberechtigungen zu verwalten (GRANT, REVOKE)\n- __WICHTIG:__ Es geht stets nur ein Befehl pro Zeile und nur eine Datenbank pro Kernel/Notebook!",
      "metadata": {}
    },
    {
      "cell_type": "markdown",
      "source": "### Erstellung einer \"In-Memory\" - Datenbank und Aktivierung der Fremdschlüsselnutzung",
      "metadata": {}
    },
    {
      "cell_type": "code",
      "source": "%CREATE sportDB.db",
      "metadata": {
        "trusted": true
      },
      "execution_count": 14,
      "outputs": []
    },
    {
      "cell_type": "code",
      "source": "PRAGMA foreign_keys = ON;",
      "metadata": {
        "trusted": true
      },
      "execution_count": 15,
      "outputs": []
    },
    {
      "cell_type": "markdown",
      "source": "---",
      "metadata": {}
    },
    {
      "cell_type": "markdown",
      "source": "## Erstellung einer neuen Tabelle\n- CREATE TABLE __name__(__Attribut__ TYP)\n- __PRIMARY KEY__ zeigt den Primärschlüssel an. Dieser muss dadurch immer verschieden sein und nicht null.\n- Attribute, die nicht leer sein dürfen, werden mit __NOT NULL__ gekennzeichnet.\n- __FOREIGN KEY(TeamID) REFERENCES team(ID)__: TeamID ist ein Fremdschlüssel aus Tabelle team mit Attribut ID. Dadurch kann __kein__ Spieler erstellt werden, bei dem es das Team nicht gibt. Auch kann kein Team gelöscht werden, wenn es noch Spieler darin gibt.\n#### Datentypen:\n- NULL (keine Angabe, falls unbekannt)\n- INTEGER (Zahlen)\n- REAL (Dezimalzahlen)\n- CHAR(40) (Text mit Länge der Zeichen (40))",
      "metadata": {}
    },
    {
      "cell_type": "code",
      "source": "CREATE TABLE team (\n    ID INTEGER PRIMARY KEY,\n    Name CHAR(40), \n    Platz INTEGER, \n    Farbe CHAR(40))",
      "metadata": {
        "trusted": true
      },
      "execution_count": 16,
      "outputs": []
    },
    {
      "cell_type": "code",
      "source": "CREATE TABLE spieler (\n    Name CHAR(40) PRIMARY KEY, \n    TeamID INTEGER NOT NULL, \n    Level INTEGER NOT NULL, \n    Treffer INTEGER,\n    FOREIGN KEY(TeamID) REFERENCES team(ID)\n)",
      "metadata": {
        "trusted": true
      },
      "execution_count": 17,
      "outputs": []
    },
    {
      "cell_type": "markdown",
      "source": "---",
      "metadata": {}
    },
    {
      "cell_type": "markdown",
      "source": "### Einfügen eines neuen Datensatzes\n\n- __INSERT INTO__ tabellenName (Attribute optional) __VALUES__ (Wert1, Wert2, ...);\n- Strings in \"...\"\n\n> Tipp: Zellen duplizieren!\n",
      "metadata": {}
    },
    {
      "cell_type": "code",
      "source": "INSERT INTO spieler (Name, TeamID, Level, Treffer) VALUES (\"Bob\", 1, 3, 23);",
      "metadata": {
        "trusted": true
      },
      "execution_count": 22,
      "outputs": []
    },
    {
      "cell_type": "code",
      "source": "INSERT INTO spieler (Name, TeamID, Level, Treffer) VALUES (\"Alice\", 1, 5, 33);",
      "metadata": {
        "trusted": true
      },
      "execution_count": 23,
      "outputs": []
    },
    {
      "cell_type": "code",
      "source": "INSERT INTO spieler (Name, TeamID, Level, Treffer) VALUES (\"Rob\", 1, 7, 12);",
      "metadata": {
        "trusted": true
      },
      "execution_count": 24,
      "outputs": []
    },
    {
      "cell_type": "code",
      "source": "INSERT INTO spieler (Name, TeamID, Level, Treffer) VALUES (\"Anna\", 1, 5, 37);",
      "metadata": {
        "trusted": true
      },
      "execution_count": 25,
      "outputs": []
    },
    {
      "cell_type": "code",
      "source": "INSERT INTO spieler (Name, TeamID, Level, Treffer) VALUES (\"Tim\", 2, 2, 11);",
      "metadata": {
        "trusted": true
      },
      "execution_count": 26,
      "outputs": []
    },
    {
      "cell_type": "code",
      "source": "INSERT INTO spieler (Name, TeamID, Level, Treffer) VALUES (\"Billy\", 2, 1, 28);",
      "metadata": {
        "tags": [],
        "trusted": true
      },
      "execution_count": 27,
      "outputs": []
    },
    {
      "cell_type": "code",
      "source": "INSERT INTO spieler (Name, TeamID, Level, Treffer) VALUES (\"Sabine\", 2, 7, 27);",
      "metadata": {
        "tags": [],
        "trusted": true
      },
      "execution_count": 28,
      "outputs": []
    },
    {
      "cell_type": "code",
      "source": "INSERT INTO spieler (Name, TeamID, Level, Treffer) VALUES (\"Lissel\", 2, 10, 29);",
      "metadata": {
        "trusted": true
      },
      "execution_count": 29,
      "outputs": []
    },
    {
      "cell_type": "code",
      "source": "-- Möchte man jeden Wert eintragen, kann die Attribut-Klammer weggelassen werden!\nINSERT INTO team VALUES (1, \"BVB\", 3, \"Gelb\");",
      "metadata": {
        "tags": [],
        "trusted": true
      },
      "execution_count": 30,
      "outputs": [
        {
          "ename": "Error",
          "evalue": "UNIQUE constraint failed: team.ID",
          "traceback": [
            "Error: UNIQUE constraint failed: team.ID"
          ],
          "output_type": "error"
        }
      ]
    },
    {
      "cell_type": "code",
      "source": "INSERT INTO team VALUES (2, \"Dynamo Desden\", 1, \"Rot\");",
      "metadata": {
        "tags": [],
        "trusted": true
      },
      "execution_count": 31,
      "outputs": [
        {
          "ename": "Error",
          "evalue": "UNIQUE constraint failed: team.ID",
          "traceback": [
            "Error: UNIQUE constraint failed: team.ID"
          ],
          "output_type": "error"
        }
      ]
    },
    {
      "cell_type": "code",
      "source": "SELECT * FROM spieler",
      "metadata": {
        "trusted": true
      },
      "execution_count": 34,
      "outputs": [
        {
          "execution_count": 34,
          "output_type": "execute_result",
          "data": {
            "text/html": "<table>\n<tr>\n<th>Name</th>\n<th>TeamID</th>\n<th>Level</th>\n<th>Treffer</th>\n</tr>\n<tr>\n<td>Bob</td>\n<td>1</td>\n<td>3</td>\n<td>23</td>\n</tr>\n<tr>\n<td>Alice</td>\n<td>1</td>\n<td>5</td>\n<td>33</td>\n</tr>\n<tr>\n<td>Rob</td>\n<td>1</td>\n<td>7</td>\n<td>12</td>\n</tr>\n<tr>\n<td>Anna</td>\n<td>1</td>\n<td>6</td>\n<td>37</td>\n</tr>\n<tr>\n<td>Tim</td>\n<td>2</td>\n<td>2</td>\n<td>11</td>\n</tr>\n<tr>\n<td>Billy</td>\n<td>2</td>\n<td>1</td>\n<td>28</td>\n</tr>\n<tr>\n<td>Sabine</td>\n<td>2</td>\n<td>7</td>\n<td>27</td>\n</tr>\n<tr>\n<td>Lissel</td>\n<td>2</td>\n<td>10</td>\n<td>29</td>\n</tr>\n</table>",
            "text/plain": "+--------+--------+-------+---------+\n| Name   | TeamID | Level | Treffer |\n+--------+--------+-------+---------+\n| Bob    | 1      | 3     | 23      |\n+--------+--------+-------+---------+\n| Alice  | 1      | 5     | 33      |\n+--------+--------+-------+---------+\n| Rob    | 1      | 7     | 12      |\n+--------+--------+-------+---------+\n| Anna   | 1      | 6     | 37      |\n+--------+--------+-------+---------+\n| Tim    | 2      | 2     | 11      |\n+--------+--------+-------+---------+\n| Billy  | 2      | 1     | 28      |\n+--------+--------+-------+---------+\n| Sabine | 2      | 7     | 27      |\n+--------+--------+-------+---------+\n| Lissel | 2      | 10    | 29      |\n+--------+--------+-------+---------+"
          },
          "metadata": {}
        }
      ]
    },
    {
      "cell_type": "code",
      "source": "-- Update der Tabelle Spieler, Setze Level um 1 hoch WO Name = Anna\nUpdate Spieler Set Level = Level + 1 where Name = \"Anna\"",
      "metadata": {
        "trusted": true
      },
      "execution_count": 33,
      "outputs": []
    },
    {
      "cell_type": "code",
      "source": "SELECT \n    team.Name, \n    COUNT(*) as AnzahlSpieler, \n    SUM(spieler.Treffer) as AnzahlTreffer,\n    AnzahlTreffer/AnzahlSpieler as Schnitt\nFROM \n    spieler, \n    team \nwhere \n    spieler.TeamID = team.ID \nGroup by team.Name\nORDER BY AnzahlTreffer ASC; \n-- DESC/ASC = Absteigend/Aufsteigend",
      "metadata": {
        "trusted": true
      },
      "execution_count": 36,
      "outputs": [
        {
          "ename": "Error",
          "evalue": "no such column: AnzahlTreffer",
          "traceback": [
            "Error: no such column: AnzahlTreffer"
          ],
          "output_type": "error"
        }
      ]
    },
    {
      "cell_type": "markdown",
      "source": "---",
      "metadata": {}
    },
    {
      "cell_type": "markdown",
      "source": "### Beispielabfragen\n__Tipp:__\nErstellt euch komplizierte Abfragen mit ChatGPT! Übergebt dafür die Tabellenerstellungs-Abfrage in die Prompt!",
      "metadata": {}
    },
    {
      "cell_type": "code",
      "source": "--- Durchschnittlicher Treffer pro Spieler pro Team:\nSELECT t.Name AS TeamName, AVG(s.Treffer) AS AverageHitsPerPlayer\nFROM team t\nJOIN spieler s ON t.ID = s.TeamID\nGROUP BY t.Name;",
      "metadata": {
        "trusted": true
      },
      "execution_count": null,
      "outputs": []
    },
    {
      "cell_type": "code",
      "source": "--- Anzahl der Spieler pro Team mit einem bestimmten Level:\nSELECT t.Name AS TeamName, COUNT(*) AS NumberOfPlayers, s.Level\nFROM team t\nJOIN spieler s ON t.ID = s.TeamID\nGROUP BY t.Name, s.Level;",
      "metadata": {
        "trusted": true
      },
      "execution_count": null,
      "outputs": []
    },
    {
      "cell_type": "code",
      "source": "---Teams mit mindestens 3 Spielern und deren Platzierung:\nSELECT team.Name AS TeamName, team.Platz\nFROM team\nWHERE team.ID IN (SELECT TeamID FROM spieler GROUP BY TeamID HAVING COUNT(*) >= 3);",
      "metadata": {
        "trusted": true
      },
      "execution_count": null,
      "outputs": []
    },
    {
      "cell_type": "code",
      "source": "---Durchschnittliche Treffer pro Level:\nSELECT Level, AVG(Treffer) AS AverageHitsPerLevel\nFROM spieler\nGROUP BY Level;",
      "metadata": {
        "trusted": true
      },
      "execution_count": null,
      "outputs": []
    },
    {
      "cell_type": "markdown",
      "source": "---\n---",
      "metadata": {}
    },
    {
      "cell_type": "markdown",
      "source": "### Einfache grafische Darstellung mit __XVega__\n\n%XVEGA_PLOT \n\n    X_FIELD LvL      --> x-Achsen Attribut\n    Y_FIELD Points   --> y-Achsen Attribut\n    MARK circle      --> Datenpunkte Style (ARC,AREA,BAR,CIRCLE,LINE,POINT,RECT,RULE,SQUARE,TICK,TRAIL)\n    COLOR green      --> Farbe der Punkte/Markierung\n    WIDTH 500        --> Breite\n    HEIGHT 200       --> Höhe\n    <> \n    SELECT Level as LvL, Treffer as Points FROM spieler  --> SQL-Abfrage mit den oben genannten Attributen/ __as__ benennt um (praktisch für Aggregatsfunktionen)\n    \n__WICHTIG__: Attribute nach _Select_ müssen nummerisch sein!",
      "metadata": {}
    },
    {
      "cell_type": "code",
      "source": "%XVEGA_PLOT\n    X_FIELD Name\n    Y_FIELD AnzahlTreffer\n    MARK bar\n    COLOR green\n    WIDTH 100\n    HEIGHT 200\n    <>\n  SELECT team.ID as Name, SUM(spieler.Treffer) as AnzahlTreffer FROM spieler, team where spieler.TeamID = team.ID Group by team.Name",
      "metadata": {
        "trusted": true
      },
      "execution_count": null,
      "outputs": []
    },
    {
      "cell_type": "markdown",
      "source": "---\n---",
      "metadata": {}
    },
    {
      "cell_type": "markdown",
      "source": "### __Arbeitsauftrag__\n1. Erstelle ein neues Notebook!\n2. Übertrage dein Datenmodell aus dem Relationenmodell in eine SQLite Datenbank.\n3. Verknüpfe die Tabellen über die Fremdschlüssel-Klausel.\n4. Füge je Tabelle 3-4 Datensätze hinzu.\n5. Erstelle eine Abfrage mit den Agregatsfunktionen SUM/AVG/COUNT und GROUB BY/HAVING\n6. Lass eine Abfrage grafisch darstellen!\n7. Lade das Notebook herunter und lege es in den Abgabeordner!",
      "metadata": {}
    },
    {
      "cell_type": "code",
      "source": "",
      "metadata": {
        "trusted": true
      },
      "execution_count": null,
      "outputs": []
    },
    {
      "cell_type": "code",
      "source": "",
      "metadata": {},
      "execution_count": null,
      "outputs": []
    }
  ]
}